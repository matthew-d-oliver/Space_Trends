{
 "cells": [
  {
   "cell_type": "code",
   "execution_count": 3,
   "metadata": {},
   "outputs": [],
   "source": [
    "import re\n",
    "import os\n",
    "import time\n",
    "import random\n",
    "import numpy as np\n",
    "import pandas as pd\n",
    "import seaborn as sns\n",
    "import matplotlib.pyplot as plt\n",
    "from datetime import date, timedelta"
   ]
  },
  {
   "cell_type": "code",
   "execution_count": 11,
   "metadata": {},
   "outputs": [],
   "source": [
    "#create dictionary of nasa budget as % of federal budget for each year\n",
    "yearly_budget={2005:.63,\n",
    "       2006:.57,\n",
    "       2007:.58,\n",
    "       2008:.6,\n",
    "       2009:.57,\n",
    "       2010:.52,\n",
    "       2011:.51,\n",
    "       2012:.50,\n",
    "       2013:.49,\n",
    "       2014:.5,\n",
    "       2015:.49,\n",
    "       2016:.5,\n",
    "       2017:.47,\n",
    "       2018:.5,\n",
    "       2019:.47,\n",
    "       2020:.48,\n",
    "       2021:.46}"
   ]
  },
  {
   "cell_type": "code",
   "execution_count": 12,
   "metadata": {},
   "outputs": [],
   "source": [
    "#create list of days to iterate through \n",
    "sdate = date(2005, 4, 10)   # start date\n",
    "edate = date(2021, 12, 31)   # end date\n",
    "delta = edate - sdate       # as timedelta\n",
    "days=[sdate + timedelta(days=i) for i in range(delta.days + 1)]\n",
    "# print(days)"
   ]
  },
  {
   "cell_type": "code",
   "execution_count": 13,
   "metadata": {},
   "outputs": [],
   "source": [
    "budget=pd.DataFrame()\n",
    "budget['day']=days\n",
    "budget['budget']=budget['day'].apply(lambda u: yearly_budget[u.year])\n"
   ]
  },
  {
   "cell_type": "code",
   "execution_count": 14,
   "metadata": {},
   "outputs": [],
   "source": [
    "budget.to_csv('2021_budget_bad')\n",
    "# budget_bad.to_csv('2021_budget_bad')"
   ]
  },
  {
   "cell_type": "code",
   "execution_count": null,
   "metadata": {},
   "outputs": [],
   "source": []
  }
 ],
 "metadata": {
  "kernelspec": {
   "display_name": "Python 3",
   "language": "python",
   "name": "python3"
  },
  "language_info": {
   "codemirror_mode": {
    "name": "ipython",
    "version": 3
   },
   "file_extension": ".py",
   "mimetype": "text/x-python",
   "name": "python",
   "nbconvert_exporter": "python",
   "pygments_lexer": "ipython3",
   "version": "3.7.3"
  }
 },
 "nbformat": 4,
 "nbformat_minor": 2
}
